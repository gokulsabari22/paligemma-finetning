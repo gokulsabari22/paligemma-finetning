{
 "cells": [
  {
   "cell_type": "markdown",
   "id": "e74ac9c3-b737-4e3e-b63b-37682942d816",
   "metadata": {},
   "source": [
    "## Import Libraries"
   ]
  },
  {
   "cell_type": "code",
   "execution_count": 1,
   "id": "543264cf-4920-4bb9-9a16-4c9326d049d1",
   "metadata": {},
   "outputs": [],
   "source": [
    "from datasets import load_dataset, DatasetDict\n",
    "import json\n",
    "from torch.utils.data import Dataset, DataLoader\n",
    "from transformers import AutoProcessor\n",
    "from typing import Dict, List, Any\n",
    "import random\n",
    "import lightning as L\n",
    "import torch\n",
    "from torch.utils.data import DataLoader\n",
    "import re\n",
    "from nltk import edit_distance\n",
    "import numpy as np\n",
    "from transformers import PaliGemmaForConditionalGeneration\n",
    "from transformers import BitsAndBytesConfig\n",
    "from peft import get_peft_model, LoraConfig\n",
    "import accelerate\n",
    "from lightning.pytorch.callbacks import Callback\n",
    "from lightning.pytorch.callbacks.early_stopping import EarlyStopping\n",
    "from torch.optim.lr_scheduler import CosineAnnealingLR\n",
    "from lightning.pytorch.callbacks import LearningRateMonitor  \n",
    "from huggingface_hub import HfApi"
   ]
  },
  {
   "cell_type": "code",
   "execution_count": 2,
   "id": "d7948cc9-2a2e-4beb-b790-26e072332bc7",
   "metadata": {},
   "outputs": [],
   "source": [
    "REPO_ID = \"google/paligemma-3b-pt-224\"\n",
    "FINETUNED_MODEL_ID = \"gokulsabari/paligemma-brain-xray\"\n",
    "MAX_LENGTH = 512\n",
    "WANDB_PROJECT = \"paligemma\"\n",
    "WANDB_NAME = \"brain-xray-demo\""
   ]
  },
  {
   "cell_type": "markdown",
   "id": "6c8a79ae-28b4-46fd-8ccf-2583baa3c3cc",
   "metadata": {},
   "source": [
    "## Dataset Loading"
   ]
  },
  {
   "cell_type": "code",
   "execution_count": 3,
   "id": "973e1e7a-e4d4-4ab3-b9f5-1bc05a25b177",
   "metadata": {},
   "outputs": [],
   "source": [
    "dataset = load_dataset(\"gokulsabari/brain-xray\")"
   ]
  },
  {
   "cell_type": "code",
   "execution_count": 4,
   "id": "bbce0968-e6a8-4ea8-8126-7d418dd6d79e",
   "metadata": {},
   "outputs": [
    {
     "data": {
      "text/plain": [
       "DatasetDict({\n",
       "    train: Dataset({\n",
       "        features: ['image', 'id', 'caption', 'ground_truth'],\n",
       "        num_rows: 161130\n",
       "    })\n",
       "    test: Dataset({\n",
       "        features: ['image', 'id', 'caption', 'ground_truth'],\n",
       "        num_rows: 500\n",
       "    })\n",
       "})"
      ]
     },
     "execution_count": 4,
     "metadata": {},
     "output_type": "execute_result"
    }
   ],
   "source": [
    "dataset"
   ]
  },
  {
   "cell_type": "markdown",
   "id": "c28c27a0-e761-46e6-b8ae-ef7fd45f9fc0",
   "metadata": {},
   "source": [
    "## Viewing the image"
   ]
  },
  {
   "cell_type": "code",
   "execution_count": 5,
   "id": "9fe5fa06-f77f-475c-b4b8-90165bbaf864",
   "metadata": {},
   "outputs": [
    {
     "data": {
      "image/jpeg": "[encoded data removed]",
      "image/png": "[encoded data removed]",
      "text/plain": [
       "<PIL.Image.Image image mode=RGB size=153x153>"
      ]
     },
     "execution_count": 5,
     "metadata": {},
     "output_type": "execute_result"
    }
   ],
   "source": [
    "example = dataset[\"train\"][0]\n",
    "image = example[\"image\"]\n",
    "width, height = image.size\n",
    "image = image.resize((int(0.3*width), int(0.3*height)))\n",
    "image"
   ]
  },
  {
   "cell_type": "markdown",
   "id": "e3a1c2f8-a1bb-4e4f-8f12-825161e39c73",
   "metadata": {},
   "source": [
    "## Text preprocessing to load  the answer as json. "
   ]
  },
  {
   "cell_type": "code",
   "execution_count": 6,
   "id": "a08b7e5d-9d54-41f7-a365-812a0a846aeb",
   "metadata": {},
   "outputs": [],
   "source": [
    "def fix_json_string(json_str):\n",
    "    # Replace single quotes with double quotes for the outer structure\n",
    "    json_str = json_str.replace(\"'\", '\"')\n",
    "    \n",
    "    # Find the \"answer\" field and escape its internal double quotes\n",
    "    pattern = r'\"answer\"\\s*:\\s*\"(.*?)\"(?=\\s*\\})'\n",
    "    \n",
    "    def escape_quotes(match):\n",
    "        # Use regular string formatting instead of f-string\n",
    "        return '\"answer\": \"{}\"'.format(match.group(1).replace('\"', '\\\\\"'))\n",
    "    \n",
    "    fixed_json = re.sub(pattern, escape_quotes, json_str, flags=re.DOTALL)\n",
    "    \n",
    "    return fixed_json"
   ]
  },
  {
   "cell_type": "markdown",
   "id": "30b2401e-9df9-417a-bc3c-72441867bbb7",
   "metadata": {},
   "source": [
    "## Ground Truth Answer"
   ]
  },
  {
   "cell_type": "code",
   "execution_count": 7,
   "id": "e87d7543-21f7-4964-8558-7697acb65ce2",
   "metadata": {},
   "outputs": [
    {
     "data": {
      "text/plain": [
       "{'gt_parse': {'question': 'Analyze the provided medical brain imaging scan. Describe the type of scan, key anatomical structures visible, and any abnormal findings. Focus on: Identifying the imaging modality (e.g., CT, MRI) Describing the view and orientation of the scan Noting any visible anatomical structures Identifying and describing any abnormalities or areas of concern Specifying the location of abnormalities using anatomical terms Suggesting possible clinical implications of the findings Provide a concise yet comprehensive analysis in a professional medical tone.',\n",
       "  'answer': 'The image is a non-contrasted computed tomography (CT) scan of the brain, showing the cerebral structures without any medical devices present. The region of interest, located centrally and in the middle of the image, exhibits an area of altered density, which is indicative of a brain hemorrhage. This area is distinct from the surrounding brain tissue, suggesting a possible hematoma or bleeding within the brain parenchyma. The location and characteristics of this abnormality may suggest a relationship with the surrounding brain tissue, potentially causing a mass effect or contributing to increased intracranial pressure.'}}"
      ]
     },
     "execution_count": 7,
     "metadata": {},
     "output_type": "execute_result"
    }
   ],
   "source": [
    "ground_truth = example[\"ground_truth\"]\n",
    "ground_truth = ground_truth.replace('\\n', ' ').replace('  ', ' ')\n",
    "ground_truth = fix_json_string(ground_truth)\n",
    "ground_truth = json.loads(ground_truth)\n",
    "ground_truth"
   ]
  },
  {
   "cell_type": "code",
   "execution_count": 8,
   "id": "fa6c6690-a61a-4e51-8ed0-c58be3e46250",
   "metadata": {},
   "outputs": [
    {
     "data": {
      "text/plain": [
       "True"
      ]
     },
     "execution_count": 8,
     "metadata": {},
     "output_type": "execute_result"
    }
   ],
   "source": [
    "isinstance(ground_truth[\"gt_parse\"], dict)"
   ]
  },
  {
   "cell_type": "markdown",
   "id": "b799e822-2c23-40f2-8279-ceadb1754de1",
   "metadata": {},
   "source": [
    "### Create a Pytorch Dataset"
   ]
  },
  {
   "cell_type": "code",
   "execution_count": 9,
   "id": "33f8b0ea-33d7-4eef-8d6c-89b23a4f560f",
   "metadata": {},
   "outputs": [],
   "source": [
    "class CustomDataset(Dataset):\n",
    "    def __init__(self, \n",
    "                dataset_name: str,\n",
    "                split: str = \"train\",\n",
    "                sort_json_key: bool = True):\n",
    "        super().__init__()\n",
    "        self.split = split\n",
    "        self.sort_json_key = sort_json_key\n",
    "        self.dataset = load_dataset(path=dataset_name, split=self.split)\n",
    "        self.dataset_length = len(self.dataset)\n",
    "\n",
    "        self.gt_token_sequences = []\n",
    "        for sample in self.dataset:\n",
    "            ground_truth = sample[\"ground_truth\"]\n",
    "            ground_truth = ground_truth.replace('\\n', ' ')\n",
    "            ground_truth = fix_json_string(ground_truth)\n",
    "            ground_truth = json.loads(ground_truth)\n",
    "            if \"gt_parses\" in ground_truth:  \n",
    "                assert isinstance(ground_truth[\"gt_parses\"], list)\n",
    "                gt_jsons = ground_truth[\"gt_parses\"]\n",
    "            else:\n",
    "                assert \"gt_parse\" in ground_truth and isinstance(ground_truth[\"gt_parse\"], dict)\n",
    "                gt_jsons = [ground_truth[\"gt_parse\"]]\n",
    "\n",
    "            \n",
    "            self.gt_token_sequences.append(\n",
    "                [\n",
    "                    self.json2token(\n",
    "                        gt_json,\n",
    "                        sort_json_key=self.sort_json_key,\n",
    "                    )\n",
    "                    for gt_json in gt_jsons  # load json from list of json\n",
    "                ]\n",
    "            )\n",
    "\n",
    "    def json2token(self, obj: Any, sort_json_key: bool = True):\n",
    "        \"\"\"\n",
    "        Convert an ordered JSON object into a token sequence\n",
    "        \"\"\"\n",
    "        if type(obj) == dict:\n",
    "            if len(obj) == 1 and \"text_sequence\" in obj:\n",
    "                return obj[\"text_sequence\"]\n",
    "            else:\n",
    "                output = \"\"\n",
    "                if sort_json_key:\n",
    "                    keys = sorted(obj.keys(), reverse=True)\n",
    "                else:\n",
    "                    keys = obj.keys()\n",
    "                for k in keys:\n",
    "                    output += (\n",
    "                        fr\"<s_{k}>\"\n",
    "                        + self.json2token(obj[k], sort_json_key)\n",
    "                        + fr\"</s_{k}>\"\n",
    "                    )\n",
    "                return output\n",
    "        elif type(obj) == list:\n",
    "            return r\"<sep/>\".join(\n",
    "                [self.json2token(item, sort_json_key) for item in obj]\n",
    "            )\n",
    "        else:\n",
    "            obj = str(obj)\n",
    "            return obj\n",
    "\n",
    "    def __len__(self) -> int:\n",
    "        return self.dataset_length\n",
    "\n",
    "    def __getitem__(self, idx: int) -> Dict:\n",
    "        \"\"\"\n",
    "        Returns one item of the dataset.\n",
    "\n",
    "        Returns:\n",
    "            image : the original Receipt image\n",
    "            target_sequence : tokenized ground truth sequence\n",
    "        \"\"\"\n",
    "        sample = self.dataset[idx]\n",
    "\n",
    "        # inputs\n",
    "        image = sample[\"image\"]\n",
    "        target_sequence = random.choice(self.gt_token_sequences[idx])  \n",
    "\n",
    "        return image, target_sequence"
   ]
  },
  {
   "cell_type": "code",
   "execution_count": 10,
   "id": "e1d7a203-6577-44da-9da0-a1c502a96bac",
   "metadata": {},
   "outputs": [],
   "source": [
    "train_dataset = CustomDataset(dataset_name=\"gokulsabari/brain-xray\", split=\"train\")\n",
    "test_dataset = CustomDataset(dataset_name=\"gokulsabari/brain-xray\", split=\"test\")"
   ]
  },
  {
   "cell_type": "markdown",
   "id": "aabdf85d-622f-4184-b2c0-917713d3a16a",
   "metadata": {},
   "source": [
    "### Create Collate function"
   ]
  },
  {
   "cell_type": "code",
   "execution_count": 11,
   "id": "0253f03f-a325-41c6-9d35-928d4384d3ff",
   "metadata": {},
   "outputs": [],
   "source": [
    "PROMPT = \"\"\"Analyze the provided medical brain imaging scan. Describe the type of scan, key anatomical structures visible, and any abnormal findings. Focus on: Identifying the imaging modality (e.g., CT, MRI) Describing the view and orientation of the scan Noting any visible anatomical structures Identifying and describing any abnormalities or areas of concern Specifying the location of abnormalities using anatomical terms Suggesting possible clinical implications of the findings Provide a concise yet comprehensive analysis in a professional medical tone.\"\"\"\n",
    "\n",
    "pattern = r'(<s_answer>.*?</s_answer>)'\n",
    "\n",
    "\n",
    "def train_collate_fn(examples):\n",
    "    images = [example[0] for example in examples]\n",
    "    texts = [PROMPT for _ in range(len(images))]\n",
    "\n",
    "    labels = []      # The answer file contains <s_question>question</s_question><s_answer>answer</s_question>. \n",
    "                     # We only need <s_answer>answer</s_question>\n",
    "                     # Used regex to extract only the answer part\n",
    "\n",
    "    for example in examples:\n",
    "        label = example[1]\n",
    "        match = re.search(pattern, label, re.DOTALL)\n",
    "    \n",
    "        if match:\n",
    "            label = match.group(1)\n",
    "        labels.append(label)\n",
    "\n",
    "    \n",
    "    inputs = processor(text=texts, images=images, suffix=labels, return_tensors=\"pt\", padding=True,\n",
    "                     truncation=\"only_second\", max_length=MAX_LENGTH,\n",
    "                     tokenize_newline_separately=False)\n",
    "    \n",
    "    input_ids = inputs[\"input_ids\"]\n",
    "    token_type_ids = inputs[\"token_type_ids\"]\n",
    "    attention_mask = inputs[\"attention_mask\"]\n",
    "    pixel_values = inputs[\"pixel_values\"]\n",
    "    labels = inputs[\"labels\"]\n",
    "    \n",
    "    \n",
    "  \n",
    "\n",
    "    return input_ids, token_type_ids, attention_mask, pixel_values, labels\n",
    "\n",
    "\n",
    "def eval_collate_fn(examples):\n",
    "  images = [example[0] for example in examples]\n",
    "  texts = [PROMPT for _ in range(len(images))]\n",
    "  answers = [example[1] for example in examples]\n",
    "\n",
    "  inputs = processor(text=texts, images=images, return_tensors=\"pt\", padding=True, tokenize_newline_separately=False)\n",
    "\n",
    "  input_ids = inputs[\"input_ids\"]\n",
    "  attention_mask = inputs[\"attention_mask\"]\n",
    "  pixel_values = inputs[\"pixel_values\"]\n",
    "\n",
    "  return input_ids, attention_mask, pixel_values, answers"
   ]
  },
  {
   "cell_type": "markdown",
   "id": "134f1298-3b1d-4de2-acc2-c20c204d767f",
   "metadata": {},
   "source": [
    "## Load the processor\n",
    "In Vision Language Models (VLMs), the processor plays a crucial role in preparing and transforming both image and text inputs into a format that the model can understand and process. It typically handles tasks such as resizing and normalizing images, tokenizing text, and combining these modalities into a single input representation."
   ]
  },
  {
   "cell_type": "code",
   "execution_count": 13,
   "id": "23d0205c-beee-44d7-a01c-dcd6fc3b5fb7",
   "metadata": {},
   "outputs": [],
   "source": [
    "processor = AutoProcessor.from_pretrained(REPO_ID)"
   ]
  },
  {
   "cell_type": "code",
   "execution_count": 14,
   "id": "a7c88ad5-b8a2-4509-bfe6-265c7e0001b9",
   "metadata": {},
   "outputs": [],
   "source": [
    "train_dataloader = DataLoader(train_dataset, collate_fn=train_collate_fn, batch_size=2, shuffle=True)\n",
    "input_ids, token_type_ids, attention_mask, pixel_values, labels = next(iter(train_dataloader))"
   ]
  },
  {
   "cell_type": "code",
   "execution_count": 15,
   "id": "cefccee4-720e-4684-8241-c0d6ec94c273",
   "metadata": {},
   "outputs": [
    {
     "data": {
      "text/plain": [
       "['<pad><pad><pad><pad><pad><pad><pad><pad><pad><pad><pad><pad><pad><pad><pad><pad><image><image><image><image><image><image><image><image><image><image><image><image><image><image><image><image><image><image><image><image><image><image><image><image><image><image><image><image><image><image><image><image><image><image><image><image><image><image><image><image><image><image><image><image><image><image><image><image><image><image><image><image><image><image><image><image><image><image><image><image><image><image><image><image><image><image><image><image><image><image><image><image><image><image><image><image><image><image><image><image><image><image><image><image><image><image><image><image><image><image><image><image><image><image><image><image><image><image><image><image><image><image><image><image><image><image><image><image><image><image><image><image><image><image><image><image><image><image><image><image><image><image><image><image><image><image><image><image><image><image><image><image><image><image><image><image><image><image><image><image><image><image><image><image><image><image><image><image><image><image><image><image><image><image><image><image><image><image><image><image><image><image><image><image><image><image><image><image><image><image><image><image><image><image><image><image><image><image><image><image><image><image><image><image><image><image><image><image><image><image><image><image><image><image><image><image><image><image><image><image><image><image><image><image><image><image><image><image><image><image><image><image><image><image><image><image><image><image><image><image><image><image><image><image><image><image><image><image><image><image><image><image><image><image><image><image><image><image><image><image><image><image><image><image><image><image><image><image><image><image><image><image><image><image><image><image><bos>Analyze the provided medical brain imaging scan. Describe the type of scan, key anatomical structures visible, and any abnormal findings. Focus on: Identifying the imaging modality (e.g., CT, MRI) Describing the view and orientation of the scan Noting any visible anatomical structures Identifying and describing any abnormalities or areas of concern Specifying the location of abnormalities using anatomical terms Suggesting possible clinical implications of the findings Provide a concise yet comprehensive analysis in a professional medical tone.\\n<s_answer>The image is a non-contrasted computed tomography (CT) scan of the brain, showing the cranial cavity with brain structures. The region of interest, located centrally and in the upper-middle area of the brain, occupies approximately 0.9% of the area and appears to have a different density compared to the surrounding brain tissue, which may indicate an abnormality such as a hemorrhage. This region\"s unusual appearance, potentially representing a subdural hemorrhage, is situated near critical brain structures, which could suggest a relationship where the hemorrhage may exert pressure on or cause displacement of these structures.</s_answer><eos>',\n",
       " '<image><image><image><image><image><image><image><image><image><image><image><image><image><image><image><image><image><image><image><image><image><image><image><image><image><image><image><image><image><image><image><image><image><image><image><image><image><image><image><image><image><image><image><image><image><image><image><image><image><image><image><image><image><image><image><image><image><image><image><image><image><image><image><image><image><image><image><image><image><image><image><image><image><image><image><image><image><image><image><image><image><image><image><image><image><image><image><image><image><image><image><image><image><image><image><image><image><image><image><image><image><image><image><image><image><image><image><image><image><image><image><image><image><image><image><image><image><image><image><image><image><image><image><image><image><image><image><image><image><image><image><image><image><image><image><image><image><image><image><image><image><image><image><image><image><image><image><image><image><image><image><image><image><image><image><image><image><image><image><image><image><image><image><image><image><image><image><image><image><image><image><image><image><image><image><image><image><image><image><image><image><image><image><image><image><image><image><image><image><image><image><image><image><image><image><image><image><image><image><image><image><image><image><image><image><image><image><image><image><image><image><image><image><image><image><image><image><image><image><image><image><image><image><image><image><image><image><image><image><image><image><image><image><image><image><image><image><image><image><image><image><image><image><image><image><image><image><image><image><image><image><image><image><image><image><image><bos>Analyze the provided medical brain imaging scan. Describe the type of scan, key anatomical structures visible, and any abnormal findings. Focus on: Identifying the imaging modality (e.g., CT, MRI) Describing the view and orientation of the scan Noting any visible anatomical structures Identifying and describing any abnormalities or areas of concern Specifying the location of abnormalities using anatomical terms Suggesting possible clinical implications of the findings Provide a concise yet comprehensive analysis in a professional medical tone.\\n<s_answer>The image is a non-contrast computed tomography (CT) scan of the brain, showing the cerebral structures without the use of contrast media. The region of interest, located centrally and in the upper-middle area of the brain, occupies approximately 0.4% of the image area and appears to have a different density compared to the surrounding brain tissue, which may indicate an abnormality such as a hemorrhage or a mass effect. This region\"s unusual appearance, potentially indicative of a disease process, is situated near critical brain structures, which could suggest a relationship where the disease within the region of interest could be exerting an effect on or be affected by the adjacent brain tissue.</s_answer><eos>']"
      ]
     },
     "execution_count": 15,
     "metadata": {},
     "output_type": "execute_result"
    }
   ],
   "source": [
    "processor.batch_decode(input_ids)"
   ]
  },
  {
   "cell_type": "code",
   "execution_count": 16,
   "id": "14633d67-b176-43ca-b6ce-c4ad47dfd0d3",
   "metadata": {},
   "outputs": [],
   "source": [
    "val_dataloader = DataLoader(test_dataset, collate_fn=eval_collate_fn, batch_size=2, shuffle=False)\n",
    "input_ids, attention_mask, pixel_values, answers = next(iter(val_dataloader))"
   ]
  },
  {
   "cell_type": "code",
   "execution_count": 17,
   "id": "0351bd4f-43d6-4116-a1a7-c5f3a89eb5a9",
   "metadata": {},
   "outputs": [
    {
     "data": {
      "text/plain": [
       "['<image><image><image><image><image><image><image><image><image><image><image><image><image><image><image><image><image><image><image><image><image><image><image><image><image><image><image><image><image><image><image><image><image><image><image><image><image><image><image><image><image><image><image><image><image><image><image><image><image><image><image><image><image><image><image><image><image><image><image><image><image><image><image><image><image><image><image><image><image><image><image><image><image><image><image><image><image><image><image><image><image><image><image><image><image><image><image><image><image><image><image><image><image><image><image><image><image><image><image><image><image><image><image><image><image><image><image><image><image><image><image><image><image><image><image><image><image><image><image><image><image><image><image><image><image><image><image><image><image><image><image><image><image><image><image><image><image><image><image><image><image><image><image><image><image><image><image><image><image><image><image><image><image><image><image><image><image><image><image><image><image><image><image><image><image><image><image><image><image><image><image><image><image><image><image><image><image><image><image><image><image><image><image><image><image><image><image><image><image><image><image><image><image><image><image><image><image><image><image><image><image><image><image><image><image><image><image><image><image><image><image><image><image><image><image><image><image><image><image><image><image><image><image><image><image><image><image><image><image><image><image><image><image><image><image><image><image><image><image><image><image><image><image><image><image><image><image><image><image><image><image><image><image><image><image><image><bos>Analyze the provided medical brain imaging scan. Describe the type of scan, key anatomical structures visible, and any abnormal findings. Focus on: Identifying the imaging modality (e.g., CT, MRI) Describing the view and orientation of the scan Noting any visible anatomical structures Identifying and describing any abnormalities or areas of concern Specifying the location of abnormalities using anatomical terms Suggesting possible clinical implications of the findings Provide a concise yet comprehensive analysis in a professional medical tone.\\n',\n",
       " '<image><image><image><image><image><image><image><image><image><image><image><image><image><image><image><image><image><image><image><image><image><image><image><image><image><image><image><image><image><image><image><image><image><image><image><image><image><image><image><image><image><image><image><image><image><image><image><image><image><image><image><image><image><image><image><image><image><image><image><image><image><image><image><image><image><image><image><image><image><image><image><image><image><image><image><image><image><image><image><image><image><image><image><image><image><image><image><image><image><image><image><image><image><image><image><image><image><image><image><image><image><image><image><image><image><image><image><image><image><image><image><image><image><image><image><image><image><image><image><image><image><image><image><image><image><image><image><image><image><image><image><image><image><image><image><image><image><image><image><image><image><image><image><image><image><image><image><image><image><image><image><image><image><image><image><image><image><image><image><image><image><image><image><image><image><image><image><image><image><image><image><image><image><image><image><image><image><image><image><image><image><image><image><image><image><image><image><image><image><image><image><image><image><image><image><image><image><image><image><image><image><image><image><image><image><image><image><image><image><image><image><image><image><image><image><image><image><image><image><image><image><image><image><image><image><image><image><image><image><image><image><image><image><image><image><image><image><image><image><image><image><image><image><image><image><image><image><image><image><image><image><image><image><image><image><image><bos>Analyze the provided medical brain imaging scan. Describe the type of scan, key anatomical structures visible, and any abnormal findings. Focus on: Identifying the imaging modality (e.g., CT, MRI) Describing the view and orientation of the scan Noting any visible anatomical structures Identifying and describing any abnormalities or areas of concern Specifying the location of abnormalities using anatomical terms Suggesting possible clinical implications of the findings Provide a concise yet comprehensive analysis in a professional medical tone.\\n']"
      ]
     },
     "execution_count": 17,
     "metadata": {},
     "output_type": "execute_result"
    }
   ],
   "source": [
    "processor.batch_decode(input_ids)"
   ]
  },
  {
   "cell_type": "markdown",
   "id": "7533be5f-8236-480b-94fd-99c21648b1a6",
   "metadata": {},
   "source": [
    "## Fine Tuning"
   ]
  },
  {
   "cell_type": "code",
   "execution_count": 18,
   "id": "cfaa7bf3-24b2-45e0-bd04-8ae2f3d6d02a",
   "metadata": {},
   "outputs": [],
   "source": [
    "class PaliGemmaModelPLModule(L.LightningModule):\n",
    "    def __init__(self, config, processor, model):\n",
    "        super().__init__()\n",
    "        self.config = config\n",
    "        self.processor = processor\n",
    "        self.model = model\n",
    "\n",
    "        self.batch_size = config.get(\"batch_size\")\n",
    "\n",
    "    def training_step(self, batch, batch_idx):\n",
    "\n",
    "        input_ids, token_type_ids, attention_mask, pixel_values, labels = batch\n",
    "\n",
    "        outputs = self.model(input_ids=input_ids,\n",
    "                                attention_mask=attention_mask,\n",
    "                                token_type_ids=token_type_ids,\n",
    "                                pixel_values=pixel_values,\n",
    "                                labels=labels)\n",
    "        loss = outputs.loss\n",
    "\n",
    "        self.log(\"train_loss\", loss)\n",
    "\n",
    "        return loss\n",
    "\n",
    "    def validation_step(self, batch, batch_idx, dataset_idx=0):\n",
    "\n",
    "        input_ids, attention_mask, pixel_values, answers = batch\n",
    "\n",
    "        # autoregressively generate token IDs\n",
    "        generated_ids = self.model.generate(input_ids=input_ids, attention_mask=attention_mask,\n",
    "                                       pixel_values=pixel_values, max_new_tokens=MAX_LENGTH)\n",
    "        # turn them back into text, chopping of the prompt\n",
    "        # important: we don't skip special tokens here, because we want to see them in the output\n",
    "        predictions = self.processor.batch_decode(generated_ids[:, input_ids.size(1):], skip_special_tokens=True)\n",
    "\n",
    "        scores = []\n",
    "        for pred, answer in zip(predictions, answers):\n",
    "            pred = re.sub(r\"(?:(?<=>) | (?=</s_))\", \"\", pred)\n",
    "            scores.append(edit_distance(pred, answer) / max(len(pred), len(answer)))\n",
    "\n",
    "            if self.config.get(\"verbose\", False) and len(scores) == 1:\n",
    "                print(f\"Prediction: {pred}\")\n",
    "                print(f\"    Answer: {answer}\")\n",
    "                print(f\" Normed ED: {scores[0]}\")\n",
    "\n",
    "        self.log(\"val_edit_distance\", np.mean(scores))\n",
    "\n",
    "        return scores\n",
    "\n",
    "    def configure_optimizers(self):\n",
    "        optimizer = torch.optim.AdamW(self.parameters(), lr=self.config['lr'])\n",
    "        \n",
    "        # Calculate total steps\n",
    "        total_steps = self.config['max_epochs'] * len(self.train_dataloader())\n",
    "        \n",
    "        scheduler = CosineAnnealingLR(optimizer, T_max=total_steps)\n",
    "    \n",
    "        return {\n",
    "            \"optimizer\": optimizer,\n",
    "            \"lr_scheduler\": {\n",
    "                \"scheduler\": scheduler,\n",
    "                \"interval\": \"step\",  # or \"epoch\"\n",
    "                \"frequency\": 1,\n",
    "            },\n",
    "        }\n",
    "\n",
    "    def train_dataloader(self):\n",
    "        return DataLoader(train_dataset, collate_fn=train_collate_fn, batch_size=self.batch_size, shuffle=True, num_workers=4)\n",
    "\n",
    "    def val_dataloader(self):\n",
    "        return DataLoader(val_dataset, collate_fn=eval_collate_fn, batch_size=self.batch_size, shuffle=False, num_workers=4)"
   ]
  },
  {
   "cell_type": "markdown",
   "id": "b47cc9a3-138c-4bee-a521-1f1046a12217",
   "metadata": {},
   "source": [
    "## Training using PEFT (QLoRA)"
   ]
  },
  {
   "cell_type": "code",
   "execution_count": 19,
   "id": "c130004d-504b-44bf-a508-8eff35046390",
   "metadata": {},
   "outputs": [
    {
     "name": "stderr",
     "output_type": "stream",
     "text": [
      "Unused kwargs: ['bnb_4bit_compute_type']. These kwargs are not used in <class 'transformers.utils.quantization_config.BitsAndBytesConfig'>.\n",
      "C:\\Users\\ASUS\\AppData\\Local\\Programs\\Python\\Python311\\Lib\\site-packages\\transformers\\models\\paligemma\\configuration_paligemma.py:137: FutureWarning: The `vocab_size` attribute is deprecated and will be removed in v4.44, Please use `text_config.vocab_size` instead.\n",
      "  warnings.warn(\n",
      "`config.hidden_act` is ignored, you should use `config.hidden_activation` instead.\n",
      "Gemma's activation function will be set to `gelu_pytorch_tanh`. Please, use\n",
      "`config.hidden_activation` if you want to override this behaviour.\n",
      "See https://github.com/huggingface/transformers/pull/29402 for more details.\n"
     ]
    },
    {
     "data": {
      "application/vnd.jupyter.widget-view+json": {
       "model_id": "ab47f2da81614f99a1db9e19bb1db00a",
       "version_major": 2,
       "version_minor": 0
      },
      "text/plain": [
       "Loading checkpoint shards:   0%|          | 0/3 [00:00<?, ?it/s]"
      ]
     },
     "metadata": {},
     "output_type": "display_data"
    },
    {
     "name": "stdout",
     "output_type": "stream",
     "text": [
      "trainable params: 11,298,816 || all params: 2,934,765,296 || trainable%: 0.3850\n"
     ]
    }
   ],
   "source": [
    "# Bits and Bytes config\n",
    "\n",
    "bnb_config = BitsAndBytesConfig(\n",
    "    load_in_4bit=True,\n",
    "    bnb_4bit_quant_type=\"nf4\",\n",
    "    bnb_4bit_compute_dtype=torch.bfloat16,\n",
    "    bnb_4bit_use_double_quant=True,\n",
    ")\n",
    "\n",
    "# LoRA config\n",
    "\n",
    "lora_config = LoraConfig(\n",
    "    r=32,                # Higher rank and alpha can be set for complex tasks\n",
    "    lora_alpha=64,\n",
    "    target_modules=[\"q_proj\", \"o_proj\", \"k_proj\", \"v_proj\", \"gate_proj\", \"up_proj\", \"down_proj\"],\n",
    "    task_type=\"CAUSAL_LM\",\n",
    "    bias=\"none\",\n",
    "    lora_dropout=0.05\n",
    ")\n",
    "\n",
    "model = PaliGemmaForConditionalGeneration.from_pretrained(REPO_ID, quantization_config=bnb_config, device_map={\"\":0}, torch_dtype=torch.bfloat16)\n",
    "model = get_peft_model(model, lora_config)\n",
    "model.print_trainable_parameters()"
   ]
  },
  {
   "cell_type": "code",
   "execution_count": 28,
   "id": "6c667f36-514d-4290-a6c2-22dcd39b7f94",
   "metadata": {},
   "outputs": [],
   "source": [
    "config = {\"max_epochs\": 10,\n",
    "          # \"val_check_interval\": 0.2, # how many times we want to validate during an epoch\n",
    "          \"check_val_every_n_epoch\": 1,\n",
    "          \"gradient_clip_val\": 1.0,\n",
    "          \"accumulate_grad_batches\": 8,\n",
    "          \"lr\": 1e-4,\n",
    "          \"batch_size\": 2,\n",
    "          # \"seed\":2022,\n",
    "          \"num_nodes\": 1,\n",
    "          \"warmup_steps\": 50,\n",
    "          \"result_path\": \"./result\",\n",
    "          \"verbose\": True,\n",
    "}\n",
    "\n",
    "model_module = PaliGemmaModelPLModule(config, processor, model)\n",
    "lr_monitor = LearningRateMonitor(logging_interval='step')"
   ]
  },
  {
   "cell_type": "code",
   "execution_count": 29,
   "id": "c619a6cf-8776-4098-a0a3-6e39b1d00d25",
   "metadata": {},
   "outputs": [],
   "source": [
    "api = HfApi()\n",
    "\n",
    "class PushToHubCallback(Callback):\n",
    "    def on_train_epoch_end(self, trainer, pl_module):\n",
    "        print(f\"Pushing model to the hub, epoch {trainer.current_epoch}\")\n",
    "        pl_module.model.push_to_hub(FINETUNED_MODEL_ID,\n",
    "                                    commit_message=f\"Training in progress, epoch {trainer.current_epoch}\")\n",
    "\n",
    "    def on_train_end(self, trainer, pl_module):\n",
    "        print(f\"Pushing model to the hub after training\")\n",
    "        pl_module.processor.push_to_hub(FINETUNED_MODEL_ID,\n",
    "                                    commit_message=f\"Training done\")\n",
    "        pl_module.model.push_to_hub(FINETUNED_MODEL_ID,\n",
    "                                    commit_message=f\"Training done\")\n",
    "\n",
    "early_stop_callback = EarlyStopping(monitor=\"val_edit_distance\", patience=3, verbose=False, mode=\"min\")"
   ]
  },
  {
   "cell_type": "code",
   "execution_count": null,
   "id": "e1d23629-6cf8-4dfc-871b-c60f5c23a685",
   "metadata": {},
   "outputs": [
    {
     "name": "stderr",
     "output_type": "stream",
     "text": [
      "Using 16bit Automatic Mixed Precision (AMP)\n",
      "GPU available: True (cuda), used: True\n",
      "TPU available: False, using: 0 TPU cores\n",
      "HPU available: False, using: 0 HPUs\n",
      "C:\\Users\\ASUS\\AppData\\Local\\Programs\\Python\\Python311\\Lib\\site-packages\\lightning\\pytorch\\trainer\\connectors\\logger_connector\\logger_connector.py:75: Starting from v1.9.0, `tensorboardX` has been removed as a dependency of the `lightning.pytorch` package, due to potential conflicts with other packages in the ML ecosystem. For this reason, `logger=True` will use `CSVLogger` as the default logger, unless the `tensorboard` or `tensorboardX` packages are found. Please `pip install lightning[extra]` or one of them to enable TensorBoard support by default\n",
      "LOCAL_RANK: 0 - CUDA_VISIBLE_DEVICES: [0]\n",
      "\n",
      "  | Name  | Type                 | Params | Mode \n",
      "-------------------------------------------------------\n",
      "0 | model | PeftModelForCausalLM | 1.7 B  | train\n",
      "-------------------------------------------------------\n",
      "11.3 M    Trainable params\n",
      "1.7 B     Non-trainable params\n",
      "1.7 B     Total params\n",
      "6,948.584 Total estimated model params size (MB)\n",
      "C:\\Users\\ASUS\\AppData\\Local\\Programs\\Python\\Python311\\Lib\\site-packages\\lightning\\pytorch\\trainer\\connectors\\data_connector.py:419: Consider setting `persistent_workers=True` in 'train_dataloader' to speed up the dataloader worker initialization.\n"
     ]
    }
   ],
   "source": [
    "trainer = L.Trainer(\n",
    "        accelerator=\"gpu\",\n",
    "        devices=[0],\n",
    "        max_epochs=config.get(\"max_epochs\"),\n",
    "        accumulate_grad_batches=config.get(\"accumulate_grad_batches\"),\n",
    "        check_val_every_n_epoch=config.get(\"check_val_every_n_epoch\"),\n",
    "        gradient_clip_val=config.get(\"gradient_clip_val\"),\n",
    "        precision=\"16-mixed\",\n",
    "        limit_val_batches=5,\n",
    "        num_sanity_val_steps=0,\n",
    "        # logger=wandb_logger,\n",
    "        callbacks=[PushToHubCallback(), early_stop_callback, lr_monitor],\n",
    ")\n",
    "\n",
    "trainer.fit(model_module)"
   ]
  },
  {
   "cell_type": "code",
   "execution_count": null,
   "id": "a530a57d-596f-457e-88c9-8a5ba8a1858e",
   "metadata": {},
   "outputs": [],
   "source": []
  }
 ],
 "metadata": {
  "kernelspec": {
   "display_name": "Python 3 (ipykernel)",
   "language": "python",
   "name": "python3"
  },
  "language_info": {
   "codemirror_mode": {
    "name": "ipython",
    "version": 3
   },
   "file_extension": ".py",
   "mimetype": "text/x-python",
   "name": "python",
   "nbconvert_exporter": "python",
   "pygments_lexer": "ipython3",
   "version": "3.11.5"
  }
 },
 "nbformat": 4,
 "nbformat_minor": 5
}
